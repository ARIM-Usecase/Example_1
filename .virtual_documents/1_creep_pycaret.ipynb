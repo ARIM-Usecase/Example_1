








!pip install pycaret
!git clone https://github.com/ARIM-Usecase/Example_1.git
%cd Example_1





# 汎用ライブラリ
import pandas as pd

from pycaret.regression import *

import warnings
warnings.filterwarnings('ignore')





df = pd.read_csv('./data/creep_pycaret.csv')    # database with standardized features and log-scaled rupture life
df





# setup the dataset
grid = setup(data=df, 
             target='Rupture time (hour)',
             train_size=0.9, 
             session_id =234
             )





models = [ 'lasso', 'ridge', 'svm', 'knn', 'dt', 'rf',  'gbr']
best = compare_models(sort='RMSE', include=models)






