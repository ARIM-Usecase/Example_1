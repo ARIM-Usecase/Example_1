








!pip install shap
!git clone https://github.com/ARIM-Usecase/Example_1.git
%cd Example_1





# 汎用ライブラリ
import numpy as np
import pandas as pd
import matplotlib.pyplot as plt
import seaborn as sns
from scipy import stats

# 機械学習
from sklearn.preprocessing import StandardScaler
from sklearn.model_selection import train_test_split 
from sklearn.ensemble import GradientBoostingRegressor

from sklearn import metrics

# XAI
import shap








df = pd.read_excel('./data/creep_data.xlsx')  
df





z_scores = np.abs(stats.zscore(df))
df_clean = df[(z_scores < 3).all(axis=1)]

df_clean








# 元のデータ（平均50, 標準偏差10の正規分布）
x_original = np.linspace(20, 80, 1000)
y_original = stats.norm.pdf(x_original, 50, 10)

# zスコア化（平均0, 標準偏差1の正規分布）
x_standardized = (x_original - 50) / 10
y_standardized = stats.norm.pdf(x_standardized, 0, 1)

# グラフの作成
fig, axes = plt.subplots(1, 2, figsize=(16, 6))

# 元の正規分布（塗りつぶし追加）
axes[0].fill_between(x_original, y_original, color='skyblue', alpha=0.6)
axes[0].plot(x_original, y_original, color='blue', label='Original Normal Distribution')
axes[0].set_title('Original Normal Distribution (Mean=50, SD=10)')
axes[0].set_xlabel('Value')
axes[0].set_ylabel('Density')
axes[0].grid(True, linestyle='--', alpha=0.6)
axes[0].legend()

# zスコア化した正規分布（塗りつぶし追加）
axes[1].fill_between(x_standardized, y_standardized, color='lightcoral', alpha=0.6)
axes[1].plot(x_standardized, y_standardized, color='red', label='Standardized Normal Distribution')
axes[1].set_title('Standardized Normal Distribution (Mean=0, SD=1)')
axes[1].set_xlabel('Z-Score')
axes[1].set_ylabel('Density')
axes[1].grid(True, linestyle='--', alpha=0.6)
axes[1].legend()

# 表示
plt.tight_layout()
plt.show()





# データの範囲
x = np.linspace(-4, 4, 1000)
y = stats.norm.pdf(x, 0, 1)  # 平均0, 標準偏差1の正規分布

# グラフの作成
fig, ax = plt.subplots(figsize=(10, 6))
ax.plot(x, y, color='black', label='Standard Normal Distribution')

# zスコア範囲の色付けとパーセンタイルの追加
colors = ['#f99999', '#ffcc99', '#99ee99']  # 識別しやすい色 (赤, オレンジ, 緑)
z_scores = [3, 2, 1]
percentiles = [99.73, 95.45, 68.27]  # 含まれる割合（%）
labels = [
    "99.73% (-3σ to 3σ)",
    "95.45% (-2σ to 2σ)",
    "68.27% (-1σ to 1σ)"
]

for i in range(3):
    ax.fill_between(x, y, where=(np.abs(x) < z_scores[i]), color=colors[i], alpha=0.5, label=labels[i])

# 軸とラベルの設定
ax.axvline(0, color='gray', linestyle='dashed')  # 平均線
ax.set_title('Z-Score and Standard Normal Distribution')
ax.set_xlabel('Z-Score')
ax.set_ylabel('Density')
ax.legend()
ax.grid(True, linestyle='--', alpha=0.6)

# 表示
plt.show()








plt.figure(figsize=(8, 8))
plt.title('Pearson Correlation of features')

sns.heatmap(df_clean.corr(), 
            linewidths=1.0, 
            vmax=1.0, 
            square=True, 
            cmap="RdYlBu", 
            linecolor='white', 
            annot=False
           )

sns.set(font_scale=1.0)
plt.xticks(fontsize=10, rotation=90)
plt.yticks(fontsize=10, rotation=0, va="center")

plt.show()





#閾値の設定
threshold = 0.80
corr = df_clean.corr()

#特徴量の除去
to_drop = [col for i, col in enumerate(corr.columns) 
           if any(abs(corr.iloc[i, :i]) >= threshold)]

df_fin = df_clean.drop(columns=to_drop)
df_fin


print(df_fin.columns)  








X = df_fin[[ 'Al', 'V', 'Fe', 'Mo', 'N',
        'Solution treated temp(cel)', 'Anneal temp (cel)',
        'Annealing Time (hour)', 'Temperature of creep test (cel)',
        'Stress (Mpa)', 'steady state strain rate (1/s)',
        'Strain to rupture (%) (Efc)']] 
                               
y = np.log10(df_fin.iloc[:,0]) 


X





# データの生成
xx = np.linspace(0, 5, 100)  # 0から5までの100点
yy = np.exp(xx)  # 指数関数 y = e^x

# グラフの作成
fig, axes = plt.subplots(1, 2, figsize=(12, 5))

# 通常の指数関数のグラフ
axes[0].plot(xx, yy, label=r'$y = e^x$', color='b')
axes[0].set_title('exp')
axes[0].set_xlabel('x')
axes[0].set_ylabel('y')
axes[0].legend()
axes[0].grid(True)

# 片対数グラフ (y 軸を対数スケール)
axes[1].plot(xx, yy, label=r'$y = e^x$', color='r')
axes[1].set_yscale('log')
axes[1].set_title('semilog')
axes[1].set_xlabel('x')
axes[1].set_ylabel('log(y)')
axes[1].legend()
axes[1].grid(True, which='both', linestyle='--')

# 表示
plt.tight_layout()
plt.show()








def stand(df1, df2):
    scaler = StandardScaler().fit(df1)
    return pd.DataFrame(scaler.transform(df2), columns=df2.columns)





X_train,X_test,y_train,y_test = train_test_split(X,y, 
                                                 test_size=0.1,
                                                 random_state=3000
                                                )                                      


X_test=stand(X_train,X_test)
X_train=stand(X_train,X_train) 


X_train


X_test





reg = GradientBoostingRegressor(loss='squared_error', 
                                learning_rate=0.01,
                                n_estimators=1600, 
                                subsample=1.0, 
                                max_depth=3,
                                criterion='friedman_mse', 
                                min_samples_split=2,
                                min_samples_leaf=1, 
                                min_weight_fraction_leaf=0.0,
                                random_state=3000)
 
reg.fit(X_train,y_train)








#予測値の計算
predicted_test = reg.predict(X_test)
predicted_train = reg.predict(X_train)


#モデル性能の評価
R2_test = metrics.r2_score(y_test, predicted_test)
R2_train = metrics.r2_score(y_train, predicted_train)

rmse_test = np.sqrt(metrics.mean_squared_error(y_test, predicted_test))
rmse_train = np.sqrt(metrics.mean_squared_error(y_train, predicted_train))


print ("Output of model")
print ("R2 train/test =  ",R2_train,"/",R2_test)
print ("RMSE train/test =  ",rmse_train,"/",rmse_test)





fig, ax = plt.subplots(figsize=(10, 10))

# 学習データのプロット
plt.scatter(y_train, reg.predict(X_train), s=400, marker='s', linewidth=2,
            edgecolors="blue", label='Train data', color="lavender")

# テストデータのプロット
plt.scatter(y_test, reg.predict(X_test), s=500, marker='s', linewidth=2,
            edgecolors="white", label='Test data', color="red")

# 対角線の描画
plt.plot([-2, 4], [-2, 4], linestyle='dashed', color='black', linewidth=3.5)

plt.legend(loc='upper left', fontsize='xx-large', facecolor='w', edgecolor='black')
plt.tick_params(axis='both', which='major', labelsize=18)
plt.xlabel('Actual', fontsize=20)
plt.ylabel('Predicted', fontsize=20)
plt.show()





# SHAPのインスタンス
exp = shap.TreeExplainer(reg)


# SHAP値の計算
shap_values = exp(X_train)








shap.summary_plot(shap_values, features = X_train, show=False)     








  shap.summary_plot(shap_values, X_train, plot_type = "bar")  





shap_values = shap.TreeExplainer(reg).shap_values(X_train)
for i in range(12):
    shap.dependence_plot(i, shap_values, X_train,show=False,
                      interaction_index='auto', dot_size=200)  
